{
  "nbformat": 4,
  "nbformat_minor": 0,
  "metadata": {
    "colab": {
      "name": "SSH SCRIPT  BY GOD MINER v2.0.ipynb",
      "provenance": [],
      "collapsed_sections": [],
      "include_colab_link": true
    },
    "kernelspec": {
      "name": "python3",
      "display_name": "Python 3"
    },
    "language_info": {
      "name": "python"
    },
    "accelerator": "GPU"
  },
  "cells": [
    {
      "cell_type": "markdown",
      "metadata": {
        "id": "view-in-github",
        "colab_type": "text"
      },
      "source": [
        "<a href=\"https://colab.research.google.com/github/Voxy72/server-mining/blob/main/SSH_SCRIPT_BY_GOD_MINER_v2_0.ipynb\" target=\"_parent\"><img src=\"https://colab.research.google.com/assets/colab-badge.svg\" alt=\"Open In Colab\"/></a>"
      ]
    },
    {
      "cell_type": "markdown",
      "source": [
        "**SSH** is good for **GPU Mining** and you will get long runtime if you don't get much runtime then this script can do it.\n",
        "\n",
        "**Old script** - [SCRIPT BY GOD MINER.ipynb](https://https://colab.research.google.com/drive/1TrKh_s2asG0n64IxW7_UANnkctTKREoD)\n",
        "\n",
        "***YouTube*** - [GodMiner](https://youtube.com/godminer)\n",
        "\n",
        "---\n",
        "\n",
        "***Telegram*** - [@godminer_yt](https://t.me/godminer_yt)"
      ],
      "metadata": {
        "id": "Cbjxo2aBRgLk"
      }
    },
    {
      "cell_type": "code",
      "execution_count": null,
      "metadata": {
        "id": "VSUBhUNJQv3K"
      },
      "outputs": [],
      "source": [
        "#@title **GPU CHACKER** { vertical-output: true, display-mode: \"form\" }\n",
        "\n",
        "!nvidia-smi -L\n",
        "!/usr/local/cuda/bin/nvcc --version"
      ]
    },
    {
      "cell_type": "code",
      "source": [
        "#@title **INSTALL YOUR SSH WITH ROOT ACCESS** { vertical-output: true, display-mode: \"form\" }\n",
        "\n",
        "#@markdown Create account and copy authtoken from https://dashboard.ngrok.com/get-started/your-authtoken\n",
        "\n",
        "import random, string, urllib.request, json, getpass\n",
        "#Generate root password\n",
        "password = ''.join(random.choice(string.ascii_letters + string.digits) for i in range(20))\n",
        "\n",
        "#Download ngrok\n",
        "! wget -q -c -nc https://bin.equinox.io/c/4VmDzA7iaHb/ngrok-stable-linux-amd64.zip\n",
        "! unzip -qq -n ngrok-stable-linux-amd64.zip\n",
        "\n",
        "#Setup sshd\n",
        "! apt-get install -qq -o=Dpkg::Use-Pty=0 openssh-server pwgen > /dev/null\n",
        "\n",
        "#Set root password\n",
        "! echo root:$password | chpasswd\n",
        "! mkdir -p /var/run/sshd\n",
        "! echo \"PermitRootLogin yes\" >> /etc/ssh/sshd_config\n",
        "! echo \"PasswordAuthentication yes\" >> /etc/ssh/sshd_config\n",
        "! echo \"LD_LIBRARY_PATH=/usr/lib64-nvidia\" >> /root/.bashrc\n",
        "! echo \"export LD_LIBRARY_PATH\" >> /root/.bashrc\n",
        "\n",
        "#Run sshd\n",
        "get_ipython().system_raw('/usr/sbin/sshd -D &')\n",
        "\n",
        "#Ask token\n",
        "print(\"Copy authtoken from https://dashboard.ngrok.com/auth\")\n",
        "authtoken = getpass.getpass()\n",
        "\n",
        "#Create tunnel\n",
        "get_ipython().system_raw('./ngrok authtoken $authtoken && ./ngrok tcp 22 &')\n",
        "\n",
        "#Get public address and print connect command\n",
        "with urllib.request.urlopen('http://localhost:4040/api/tunnels') as response:\n",
        "  data = json.loads(response.read().decode())\n",
        "  (host, port) = data['tunnels'][0]['public_url'][6:].split(':')\n",
        "  print(f'SSH command: ssh root@{host} -p{port}')\n",
        "\n",
        "#Print root password\n",
        "print(f'Root password: {password}')\n",
        "\n",
        "#Print DON'T FORGOT SUBSCRIBE BUTTON\n",
        "print(\"❤ By GOD MINER\")"
      ],
      "metadata": {
        "id": "17_0sSeoSSkL"
      },
      "execution_count": null,
      "outputs": []
    },
    {
      "cell_type": "code",
      "source": [
        "#@title **Make Alive SSH CONNECTION** { vertical-output: true, display-mode: \"form\" }\n",
        "#@markdown **2-5 hours Runtime**\n",
        "alive = True #@param {type:\"boolean\"}\n",
        "! sleep 432000"
      ],
      "metadata": {
        "id": "eE1M2AQoSM9F"
      },
      "execution_count": null,
      "outputs": []
    }
  ]
}